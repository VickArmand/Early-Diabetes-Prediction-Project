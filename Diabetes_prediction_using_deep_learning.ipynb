{
 "cells": [
  {
   "cell_type": "code",
   "execution_count": 7,
   "metadata": {
    "id": "ho45FnLL_6TK",
    "scrolled": true
   },
   "outputs": [],
   "source": [
    "import numpy as np\n",
    "import matplotlib.pyplot as plt\n",
    "import pandas as pd\n",
    "from sklearn.model_selection import train_test_split\n",
    "from sklearn.preprocessing import StandardScaler"
   ]
  },
  {
   "cell_type": "code",
   "execution_count": 8,
   "metadata": {
    "colab": {
     "base_uri": "https://localhost:8080/",
     "height": 441
    },
    "id": "VKJ8tTSAAZNI",
    "outputId": "8520d54d-980c-45c8-cc1e-2f4cb86e588e",
    "scrolled": true
   },
   "outputs": [
    {
     "data": {
      "text/html": [
       "<div>\n",
       "<style scoped>\n",
       "    .dataframe tbody tr th:only-of-type {\n",
       "        vertical-align: middle;\n",
       "    }\n",
       "\n",
       "    .dataframe tbody tr th {\n",
       "        vertical-align: top;\n",
       "    }\n",
       "\n",
       "    .dataframe thead th {\n",
       "        text-align: right;\n",
       "    }\n",
       "</style>\n",
       "<table border=\"1\" class=\"dataframe\">\n",
       "  <thead>\n",
       "    <tr style=\"text-align: right;\">\n",
       "      <th></th>\n",
       "      <th>Pregnancies</th>\n",
       "      <th>Glucose</th>\n",
       "      <th>BloodPressure</th>\n",
       "      <th>SkinThickness</th>\n",
       "      <th>Insulin</th>\n",
       "      <th>BMI</th>\n",
       "      <th>DiabetesPedigreeFunction</th>\n",
       "      <th>Age</th>\n",
       "      <th>Outcome</th>\n",
       "    </tr>\n",
       "  </thead>\n",
       "  <tbody>\n",
       "    <tr>\n",
       "      <th>0</th>\n",
       "      <td>6</td>\n",
       "      <td>148</td>\n",
       "      <td>72</td>\n",
       "      <td>35</td>\n",
       "      <td>0</td>\n",
       "      <td>33.6</td>\n",
       "      <td>0.627</td>\n",
       "      <td>50</td>\n",
       "      <td>1</td>\n",
       "    </tr>\n",
       "    <tr>\n",
       "      <th>1</th>\n",
       "      <td>1</td>\n",
       "      <td>85</td>\n",
       "      <td>66</td>\n",
       "      <td>29</td>\n",
       "      <td>0</td>\n",
       "      <td>26.6</td>\n",
       "      <td>0.351</td>\n",
       "      <td>31</td>\n",
       "      <td>0</td>\n",
       "    </tr>\n",
       "    <tr>\n",
       "      <th>2</th>\n",
       "      <td>8</td>\n",
       "      <td>183</td>\n",
       "      <td>64</td>\n",
       "      <td>0</td>\n",
       "      <td>0</td>\n",
       "      <td>23.3</td>\n",
       "      <td>0.672</td>\n",
       "      <td>32</td>\n",
       "      <td>1</td>\n",
       "    </tr>\n",
       "    <tr>\n",
       "      <th>3</th>\n",
       "      <td>1</td>\n",
       "      <td>89</td>\n",
       "      <td>66</td>\n",
       "      <td>23</td>\n",
       "      <td>94</td>\n",
       "      <td>28.1</td>\n",
       "      <td>0.167</td>\n",
       "      <td>21</td>\n",
       "      <td>0</td>\n",
       "    </tr>\n",
       "    <tr>\n",
       "      <th>4</th>\n",
       "      <td>0</td>\n",
       "      <td>137</td>\n",
       "      <td>40</td>\n",
       "      <td>35</td>\n",
       "      <td>168</td>\n",
       "      <td>43.1</td>\n",
       "      <td>2.288</td>\n",
       "      <td>33</td>\n",
       "      <td>1</td>\n",
       "    </tr>\n",
       "    <tr>\n",
       "      <th>...</th>\n",
       "      <td>...</td>\n",
       "      <td>...</td>\n",
       "      <td>...</td>\n",
       "      <td>...</td>\n",
       "      <td>...</td>\n",
       "      <td>...</td>\n",
       "      <td>...</td>\n",
       "      <td>...</td>\n",
       "      <td>...</td>\n",
       "    </tr>\n",
       "    <tr>\n",
       "      <th>763</th>\n",
       "      <td>10</td>\n",
       "      <td>101</td>\n",
       "      <td>76</td>\n",
       "      <td>48</td>\n",
       "      <td>180</td>\n",
       "      <td>32.9</td>\n",
       "      <td>0.171</td>\n",
       "      <td>63</td>\n",
       "      <td>0</td>\n",
       "    </tr>\n",
       "    <tr>\n",
       "      <th>764</th>\n",
       "      <td>2</td>\n",
       "      <td>122</td>\n",
       "      <td>70</td>\n",
       "      <td>27</td>\n",
       "      <td>0</td>\n",
       "      <td>36.8</td>\n",
       "      <td>0.340</td>\n",
       "      <td>27</td>\n",
       "      <td>0</td>\n",
       "    </tr>\n",
       "    <tr>\n",
       "      <th>765</th>\n",
       "      <td>5</td>\n",
       "      <td>121</td>\n",
       "      <td>72</td>\n",
       "      <td>23</td>\n",
       "      <td>112</td>\n",
       "      <td>26.2</td>\n",
       "      <td>0.245</td>\n",
       "      <td>30</td>\n",
       "      <td>0</td>\n",
       "    </tr>\n",
       "    <tr>\n",
       "      <th>766</th>\n",
       "      <td>1</td>\n",
       "      <td>126</td>\n",
       "      <td>60</td>\n",
       "      <td>0</td>\n",
       "      <td>0</td>\n",
       "      <td>30.1</td>\n",
       "      <td>0.349</td>\n",
       "      <td>47</td>\n",
       "      <td>1</td>\n",
       "    </tr>\n",
       "    <tr>\n",
       "      <th>767</th>\n",
       "      <td>1</td>\n",
       "      <td>93</td>\n",
       "      <td>70</td>\n",
       "      <td>31</td>\n",
       "      <td>0</td>\n",
       "      <td>30.4</td>\n",
       "      <td>0.315</td>\n",
       "      <td>23</td>\n",
       "      <td>0</td>\n",
       "    </tr>\n",
       "  </tbody>\n",
       "</table>\n",
       "<p>768 rows × 9 columns</p>\n",
       "</div>"
      ],
      "text/plain": [
       "     Pregnancies  Glucose  BloodPressure  SkinThickness  Insulin   BMI  \\\n",
       "0              6      148             72             35        0  33.6   \n",
       "1              1       85             66             29        0  26.6   \n",
       "2              8      183             64              0        0  23.3   \n",
       "3              1       89             66             23       94  28.1   \n",
       "4              0      137             40             35      168  43.1   \n",
       "..           ...      ...            ...            ...      ...   ...   \n",
       "763           10      101             76             48      180  32.9   \n",
       "764            2      122             70             27        0  36.8   \n",
       "765            5      121             72             23      112  26.2   \n",
       "766            1      126             60              0        0  30.1   \n",
       "767            1       93             70             31        0  30.4   \n",
       "\n",
       "     DiabetesPedigreeFunction  Age  Outcome  \n",
       "0                       0.627   50        1  \n",
       "1                       0.351   31        0  \n",
       "2                       0.672   32        1  \n",
       "3                       0.167   21        0  \n",
       "4                       2.288   33        1  \n",
       "..                        ...  ...      ...  \n",
       "763                     0.171   63        0  \n",
       "764                     0.340   27        0  \n",
       "765                     0.245   30        0  \n",
       "766                     0.349   47        1  \n",
       "767                     0.315   23        0  \n",
       "\n",
       "[768 rows x 9 columns]"
      ]
     },
     "execution_count": 8,
     "metadata": {},
     "output_type": "execute_result"
    }
   ],
   "source": [
    "#diabetesdataurl='app\\\\static\\\\Datasets\\\\diabetes.csv'\n",
    "diabetesdataurl='app/static/Datasets/diabetes.csv'\n",
    "diabetesdata_cp= pd.read_csv(diabetesdataurl)\n",
    "diabetesdata=diabetesdata_cp.copy(deep=True)\n",
    "diabetesdata"
   ]
  },
  {
   "cell_type": "code",
   "execution_count": 9,
   "metadata": {
    "id": "8nBVpmuPENLw"
   },
   "outputs": [],
   "source": [
    "diabetesdata[['Glucose','BloodPressure','SkinThickness','Insulin','BMI']] = diabetesdata[['Glucose','BloodPressure','SkinThickness','Insulin','BMI']].replace(0,np.NaN)\n",
    "diabetesdata.dropna(inplace=True,axis=0)\n",
    "# diabetesdata['Glucose'].fillna(diabetesdata['Glucose'].mean(),inplace=True)\n",
    "# diabetesdata['BloodPressure'].fillna(diabetesdata['BloodPressure'].mean(),inplace=True)\n",
    "# diabetesdata['SkinThickness'].fillna(diabetesdata['SkinThickness'].median(),inplace=True)\n",
    "# diabetesdata['Insulin'].fillna(diabetesdata['Insulin'].median(),inplace=True)\n",
    "# diabetesdata['BMI'].fillna(diabetesdata['BMI'].median(),inplace=True)"
   ]
  },
  {
   "cell_type": "code",
   "execution_count": 10,
   "metadata": {
    "colab": {
     "base_uri": "https://localhost:8080/"
    },
    "id": "2bQvJzKmEcKY",
    "outputId": "4c61dd99-e688-41c6-9603-565ad92cee62"
   },
   "outputs": [
    {
     "data": {
      "text/plain": [
       "(392, 6)"
      ]
     },
     "execution_count": 10,
     "metadata": {},
     "output_type": "execute_result"
    }
   ],
   "source": [
    "X=diabetesdata.drop(['Outcome','BloodPressure', 'SkinThickness'],axis=1)\n",
    "# X=diabetesdata.drop(['Outcome'],axis=1)\n",
    "\n",
    "Y=diabetesdata['Outcome']\n",
    "X.shape"
   ]
  },
  {
   "cell_type": "code",
   "execution_count": 11,
   "metadata": {
    "id": "huOFvIZZH6SY"
   },
   "outputs": [],
   "source": [
    "X_train,X_test,Y_train,Y_test=train_test_split(X,Y,test_size=0.2,stratify=Y,random_state=42)\n",
    "scaler = StandardScaler()\n",
    "X_train = scaler.fit_transform(X_train)\n",
    "X_test = scaler.transform(X_test)"
   ]
  },
  {
   "cell_type": "code",
   "execution_count": 12,
   "metadata": {
    "id": "huOFvIZZH6SY"
   },
   "outputs": [],
   "source": [
    "from tensorflow import keras\n",
    "from tensorflow.keras.models import Sequential\n",
    "from tensorflow.keras.layers import Dropout, Dense, Input, Flatten, Dropout\n",
    "from tensorflow.keras.models import load_model"
   ]
  },
  {
   "cell_type": "code",
   "execution_count": 13,
   "metadata": {
    "id": "qlk_z3iEH6ES"
   },
   "outputs": [],
   "source": [
    "model = Sequential()\n",
    "model.add(Input(6,))\n",
    "\n",
    "model.add(Dense(units=30, activation='relu'))\n",
    "model.add(Dropout(0.2))\n",
    "model.add(Dense(units=90, activation='relu'))\n",
    "model.add(Dropout(0.2))\n",
    "model.add(Dense(units=180, activation='relu'))\n",
    "model.add(Dropout(0.2))\n",
    "model.add(Dense(1,activation='sigmoid'))\n",
    "\n",
    "model.compile(loss='binary_crossentropy',optimizer='adam',metrics=['accuracy'])\n",
    "\n"
   ]
  },
  {
   "cell_type": "code",
   "execution_count": 14,
   "metadata": {},
   "outputs": [],
   "source": [
    "from tensorflow.keras.callbacks import ModelCheckpoint, EarlyStopping\n",
    "path_to_save_model='./models'\n",
    "early_stop=EarlyStopping(monitor=\"val_loss\",patience=100)#this means if after 10 epochs the model is not improving(ie:validation loss is not reducing) then the training stops \n",
    "checkpointsaver=ModelCheckpoint(path_to_save_model,monitor=\"val_accuracy\",mode='max',save_best_only=True,save_freq='epoch',verbose=1)#reason for these parameters is to enable saving the model on highest validation accuracy on an epoch\n"
   ]
  },
  {
   "cell_type": "code",
   "execution_count": 15,
   "metadata": {
    "colab": {
     "base_uri": "https://localhost:8080/"
    },
    "id": "Tjp18sZ8qIEw",
    "outputId": "bdc273ff-b835-42aa-c541-28cede23be97",
    "scrolled": true
   },
   "outputs": [
    {
     "name": "stdout",
     "output_type": "stream",
     "text": [
      "Epoch 1/200\n",
      "8/8 [==============================] - ETA: 0s - loss: 0.6453 - accuracy: 0.6920\n",
      "Epoch 1: val_accuracy improved from -inf to 0.76190, saving model to ./models\n"
     ]
    },
    {
     "name": "stderr",
     "output_type": "stream",
     "text": [
      "2024-09-07 22:41:11.471953: I tensorflow/core/common_runtime/executor.cc:1197] [/device:CPU:0] (DEBUG INFO) Executor start aborting (this does not indicate an error and you can ignore this message): INVALID_ARGUMENT: You must feed a value for placeholder tensor 'inputs' with dtype float and shape [?,30]\n",
      "\t [[{{node inputs}}]]\n",
      "2024-09-07 22:41:11.534654: I tensorflow/core/common_runtime/executor.cc:1197] [/device:CPU:0] (DEBUG INFO) Executor start aborting (this does not indicate an error and you can ignore this message): INVALID_ARGUMENT: You must feed a value for placeholder tensor 'inputs' with dtype float and shape [?,90]\n",
      "\t [[{{node inputs}}]]\n",
      "2024-09-07 22:41:11.596985: I tensorflow/core/common_runtime/executor.cc:1197] [/device:CPU:0] (DEBUG INFO) Executor start aborting (this does not indicate an error and you can ignore this message): INVALID_ARGUMENT: You must feed a value for placeholder tensor 'inputs' with dtype float and shape [?,180]\n",
      "\t [[{{node inputs}}]]\n",
      "2024-09-07 22:41:12.382115: I tensorflow/core/common_runtime/executor.cc:1197] [/device:CPU:0] (DEBUG INFO) Executor start aborting (this does not indicate an error and you can ignore this message): INVALID_ARGUMENT: You must feed a value for placeholder tensor 'inputs' with dtype float and shape [?,30]\n",
      "\t [[{{node inputs}}]]\n",
      "2024-09-07 22:41:12.507366: I tensorflow/core/common_runtime/executor.cc:1197] [/device:CPU:0] (DEBUG INFO) Executor start aborting (this does not indicate an error and you can ignore this message): INVALID_ARGUMENT: You must feed a value for placeholder tensor 'inputs' with dtype float and shape [?,90]\n",
      "\t [[{{node inputs}}]]\n",
      "2024-09-07 22:41:12.635923: I tensorflow/core/common_runtime/executor.cc:1197] [/device:CPU:0] (DEBUG INFO) Executor start aborting (this does not indicate an error and you can ignore this message): INVALID_ARGUMENT: You must feed a value for placeholder tensor 'inputs' with dtype float and shape [?,180]\n",
      "\t [[{{node inputs}}]]\n",
      "WARNING:absl:Found untraced functions such as _update_step_xla while saving (showing 1 of 1). These functions will not be directly callable after loading.\n"
     ]
    },
    {
     "name": "stdout",
     "output_type": "stream",
     "text": [
      "INFO:tensorflow:Assets written to: ./models/assets\n"
     ]
    },
    {
     "name": "stderr",
     "output_type": "stream",
     "text": [
      "INFO:tensorflow:Assets written to: ./models/assets\n"
     ]
    },
    {
     "name": "stdout",
     "output_type": "stream",
     "text": [
      "8/8 [==============================] - 8s 695ms/step - loss: 0.6453 - accuracy: 0.6920 - val_loss: 0.6011 - val_accuracy: 0.7619\n",
      "Epoch 2/200\n",
      "8/8 [==============================] - ETA: 0s - loss: 0.5919 - accuracy: 0.7040\n",
      "Epoch 2: val_accuracy improved from 0.76190 to 0.77778, saving model to ./models\n"
     ]
    },
    {
     "name": "stderr",
     "output_type": "stream",
     "text": [
      "2024-09-07 22:41:15.439518: I tensorflow/core/common_runtime/executor.cc:1197] [/device:CPU:0] (DEBUG INFO) Executor start aborting (this does not indicate an error and you can ignore this message): INVALID_ARGUMENT: You must feed a value for placeholder tensor 'inputs' with dtype float and shape [?,30]\n",
      "\t [[{{node inputs}}]]\n",
      "2024-09-07 22:41:15.494703: I tensorflow/core/common_runtime/executor.cc:1197] [/device:CPU:0] (DEBUG INFO) Executor start aborting (this does not indicate an error and you can ignore this message): INVALID_ARGUMENT: You must feed a value for placeholder tensor 'inputs' with dtype float and shape [?,90]\n",
      "\t [[{{node inputs}}]]\n",
      "2024-09-07 22:41:15.542986: I tensorflow/core/common_runtime/executor.cc:1197] [/device:CPU:0] (DEBUG INFO) Executor start aborting (this does not indicate an error and you can ignore this message): INVALID_ARGUMENT: You must feed a value for placeholder tensor 'inputs' with dtype float and shape [?,180]\n",
      "\t [[{{node inputs}}]]\n",
      "2024-09-07 22:41:16.234556: I tensorflow/core/common_runtime/executor.cc:1197] [/device:CPU:0] (DEBUG INFO) Executor start aborting (this does not indicate an error and you can ignore this message): INVALID_ARGUMENT: You must feed a value for placeholder tensor 'inputs' with dtype float and shape [?,30]\n",
      "\t [[{{node inputs}}]]\n",
      "2024-09-07 22:41:16.359392: I tensorflow/core/common_runtime/executor.cc:1197] [/device:CPU:0] (DEBUG INFO) Executor start aborting (this does not indicate an error and you can ignore this message): INVALID_ARGUMENT: You must feed a value for placeholder tensor 'inputs' with dtype float and shape [?,90]\n",
      "\t [[{{node inputs}}]]\n",
      "2024-09-07 22:41:17.006346: I tensorflow/core/common_runtime/executor.cc:1197] [/device:CPU:0] (DEBUG INFO) Executor start aborting (this does not indicate an error and you can ignore this message): INVALID_ARGUMENT: You must feed a value for placeholder tensor 'inputs' with dtype float and shape [?,180]\n",
      "\t [[{{node inputs}}]]\n",
      "WARNING:absl:Found untraced functions such as _update_step_xla while saving (showing 1 of 1). These functions will not be directly callable after loading.\n"
     ]
    },
    {
     "name": "stdout",
     "output_type": "stream",
     "text": [
      "INFO:tensorflow:Assets written to: ./models/assets\n"
     ]
    },
    {
     "name": "stderr",
     "output_type": "stream",
     "text": [
      "INFO:tensorflow:Assets written to: ./models/assets\n"
     ]
    },
    {
     "name": "stdout",
     "output_type": "stream",
     "text": [
      "8/8 [==============================] - 4s 598ms/step - loss: 0.5919 - accuracy: 0.7040 - val_loss: 0.5165 - val_accuracy: 0.7778\n",
      "Epoch 3/200\n",
      "5/8 [=================>............] - ETA: 0s - loss: 0.5362 - accuracy: 0.7312\n",
      "Epoch 3: val_accuracy improved from 0.77778 to 0.79365, saving model to ./models\n"
     ]
    },
    {
     "name": "stderr",
     "output_type": "stream",
     "text": [
      "2024-09-07 22:41:19.684858: I tensorflow/core/common_runtime/executor.cc:1197] [/device:CPU:0] (DEBUG INFO) Executor start aborting (this does not indicate an error and you can ignore this message): INVALID_ARGUMENT: You must feed a value for placeholder tensor 'inputs' with dtype float and shape [?,30]\n",
      "\t [[{{node inputs}}]]\n",
      "2024-09-07 22:41:19.734126: I tensorflow/core/common_runtime/executor.cc:1197] [/device:CPU:0] (DEBUG INFO) Executor start aborting (this does not indicate an error and you can ignore this message): INVALID_ARGUMENT: You must feed a value for placeholder tensor 'inputs' with dtype float and shape [?,90]\n",
      "\t [[{{node inputs}}]]\n",
      "2024-09-07 22:41:19.781629: I tensorflow/core/common_runtime/executor.cc:1197] [/device:CPU:0] (DEBUG INFO) Executor start aborting (this does not indicate an error and you can ignore this message): INVALID_ARGUMENT: You must feed a value for placeholder tensor 'inputs' with dtype float and shape [?,180]\n",
      "\t [[{{node inputs}}]]\n",
      "2024-09-07 22:41:20.401729: I tensorflow/core/common_runtime/executor.cc:1197] [/device:CPU:0] (DEBUG INFO) Executor start aborting (this does not indicate an error and you can ignore this message): INVALID_ARGUMENT: You must feed a value for placeholder tensor 'inputs' with dtype float and shape [?,30]\n",
      "\t [[{{node inputs}}]]\n",
      "2024-09-07 22:41:20.517809: I tensorflow/core/common_runtime/executor.cc:1197] [/device:CPU:0] (DEBUG INFO) Executor start aborting (this does not indicate an error and you can ignore this message): INVALID_ARGUMENT: You must feed a value for placeholder tensor 'inputs' with dtype float and shape [?,90]\n",
      "\t [[{{node inputs}}]]\n",
      "2024-09-07 22:41:20.634511: I tensorflow/core/common_runtime/executor.cc:1197] [/device:CPU:0] (DEBUG INFO) Executor start aborting (this does not indicate an error and you can ignore this message): INVALID_ARGUMENT: You must feed a value for placeholder tensor 'inputs' with dtype float and shape [?,180]\n",
      "\t [[{{node inputs}}]]\n",
      "WARNING:absl:Found untraced functions such as _update_step_xla while saving (showing 1 of 1). These functions will not be directly callable after loading.\n"
     ]
    },
    {
     "name": "stdout",
     "output_type": "stream",
     "text": [
      "INFO:tensorflow:Assets written to: ./models/assets\n"
     ]
    },
    {
     "name": "stderr",
     "output_type": "stream",
     "text": [
      "INFO:tensorflow:Assets written to: ./models/assets\n"
     ]
    },
    {
     "name": "stdout",
     "output_type": "stream",
     "text": [
      "8/8 [==============================] - 4s 503ms/step - loss: 0.5228 - accuracy: 0.7520 - val_loss: 0.4646 - val_accuracy: 0.7937\n",
      "Epoch 4/200\n",
      "5/8 [=================>............] - ETA: 0s - loss: 0.5249 - accuracy: 0.7563\n",
      "Epoch 4: val_accuracy did not improve from 0.79365\n",
      "8/8 [==============================] - 0s 39ms/step - loss: 0.5038 - accuracy: 0.7600 - val_loss: 0.4452 - val_accuracy: 0.7937\n",
      "Epoch 5/200\n",
      "7/8 [=========================>....] - ETA: 0s - loss: 0.4953 - accuracy: 0.7545\n",
      "Epoch 5: val_accuracy did not improve from 0.79365\n",
      "8/8 [==============================] - 0s 46ms/step - loss: 0.4903 - accuracy: 0.7560 - val_loss: 0.4529 - val_accuracy: 0.7937\n",
      "Epoch 6/200\n",
      "5/8 [=================>............] - ETA: 0s - loss: 0.4975 - accuracy: 0.7312\n",
      "Epoch 6: val_accuracy did not improve from 0.79365\n",
      "8/8 [==============================] - 0s 41ms/step - loss: 0.4784 - accuracy: 0.7480 - val_loss: 0.4527 - val_accuracy: 0.7937\n",
      "Epoch 7/200\n",
      "5/8 [=================>............] - ETA: 0s - loss: 0.4442 - accuracy: 0.7750\n",
      "Epoch 7: val_accuracy did not improve from 0.79365\n",
      "8/8 [==============================] - 0s 41ms/step - loss: 0.4506 - accuracy: 0.7800 - val_loss: 0.4379 - val_accuracy: 0.7778\n",
      "Epoch 8/200\n",
      "8/8 [==============================] - ETA: 0s - loss: 0.4577 - accuracy: 0.7520\n",
      "Epoch 8: val_accuracy did not improve from 0.79365\n",
      "8/8 [==============================] - 0s 43ms/step - loss: 0.4577 - accuracy: 0.7520 - val_loss: 0.4452 - val_accuracy: 0.7937\n",
      "Epoch 9/200\n",
      "5/8 [=================>............] - ETA: 0s - loss: 0.4148 - accuracy: 0.8000\n",
      "Epoch 9: val_accuracy did not improve from 0.79365\n",
      "8/8 [==============================] - 0s 33ms/step - loss: 0.4392 - accuracy: 0.7880 - val_loss: 0.4432 - val_accuracy: 0.7937\n",
      "Epoch 10/200\n",
      "8/8 [==============================] - ETA: 0s - loss: 0.4211 - accuracy: 0.7760\n",
      "Epoch 10: val_accuracy did not improve from 0.79365\n",
      "8/8 [==============================] - 0s 34ms/step - loss: 0.4211 - accuracy: 0.7760 - val_loss: 0.4606 - val_accuracy: 0.7937\n",
      "Epoch 11/200\n",
      "8/8 [==============================] - ETA: 0s - loss: 0.4534 - accuracy: 0.7480\n",
      "Epoch 11: val_accuracy did not improve from 0.79365\n",
      "8/8 [==============================] - 0s 35ms/step - loss: 0.4534 - accuracy: 0.7480 - val_loss: 0.4567 - val_accuracy: 0.7937\n",
      "Epoch 12/200\n",
      "5/8 [=================>............] - ETA: 0s - loss: 0.3811 - accuracy: 0.8250\n",
      "Epoch 12: val_accuracy did not improve from 0.79365\n",
      "8/8 [==============================] - 0s 41ms/step - loss: 0.4090 - accuracy: 0.8080 - val_loss: 0.4526 - val_accuracy: 0.7937\n",
      "Epoch 13/200\n",
      "5/8 [=================>............] - ETA: 0s - loss: 0.3995 - accuracy: 0.7812\n",
      "Epoch 13: val_accuracy improved from 0.79365 to 0.80952, saving model to ./models\n"
     ]
    },
    {
     "name": "stderr",
     "output_type": "stream",
     "text": [
      "2024-09-07 22:41:25.953147: I tensorflow/core/common_runtime/executor.cc:1197] [/device:CPU:0] (DEBUG INFO) Executor start aborting (this does not indicate an error and you can ignore this message): INVALID_ARGUMENT: You must feed a value for placeholder tensor 'inputs' with dtype float and shape [?,30]\n",
      "\t [[{{node inputs}}]]\n",
      "2024-09-07 22:41:26.003292: I tensorflow/core/common_runtime/executor.cc:1197] [/device:CPU:0] (DEBUG INFO) Executor start aborting (this does not indicate an error and you can ignore this message): INVALID_ARGUMENT: You must feed a value for placeholder tensor 'inputs' with dtype float and shape [?,90]\n",
      "\t [[{{node inputs}}]]\n",
      "2024-09-07 22:41:26.051246: I tensorflow/core/common_runtime/executor.cc:1197] [/device:CPU:0] (DEBUG INFO) Executor start aborting (this does not indicate an error and you can ignore this message): INVALID_ARGUMENT: You must feed a value for placeholder tensor 'inputs' with dtype float and shape [?,180]\n",
      "\t [[{{node inputs}}]]\n",
      "2024-09-07 22:41:26.668470: I tensorflow/core/common_runtime/executor.cc:1197] [/device:CPU:0] (DEBUG INFO) Executor start aborting (this does not indicate an error and you can ignore this message): INVALID_ARGUMENT: You must feed a value for placeholder tensor 'inputs' with dtype float and shape [?,30]\n",
      "\t [[{{node inputs}}]]\n",
      "2024-09-07 22:41:26.787436: I tensorflow/core/common_runtime/executor.cc:1197] [/device:CPU:0] (DEBUG INFO) Executor start aborting (this does not indicate an error and you can ignore this message): INVALID_ARGUMENT: You must feed a value for placeholder tensor 'inputs' with dtype float and shape [?,90]\n",
      "\t [[{{node inputs}}]]\n",
      "2024-09-07 22:41:26.905359: I tensorflow/core/common_runtime/executor.cc:1197] [/device:CPU:0] (DEBUG INFO) Executor start aborting (this does not indicate an error and you can ignore this message): INVALID_ARGUMENT: You must feed a value for placeholder tensor 'inputs' with dtype float and shape [?,180]\n",
      "\t [[{{node inputs}}]]\n",
      "WARNING:absl:Found untraced functions such as _update_step_xla while saving (showing 1 of 1). These functions will not be directly callable after loading.\n"
     ]
    },
    {
     "name": "stdout",
     "output_type": "stream",
     "text": [
      "INFO:tensorflow:Assets written to: ./models/assets\n"
     ]
    },
    {
     "name": "stderr",
     "output_type": "stream",
     "text": [
      "INFO:tensorflow:Assets written to: ./models/assets\n"
     ]
    },
    {
     "name": "stdout",
     "output_type": "stream",
     "text": [
      "8/8 [==============================] - 3s 485ms/step - loss: 0.4016 - accuracy: 0.7800 - val_loss: 0.4587 - val_accuracy: 0.8095\n",
      "Epoch 14/200\n",
      "4/8 [==============>...............] - ETA: 0s - loss: 0.3973 - accuracy: 0.8203\n",
      "Epoch 14: val_accuracy did not improve from 0.80952\n",
      "8/8 [==============================] - 0s 39ms/step - loss: 0.4110 - accuracy: 0.8040 - val_loss: 0.4757 - val_accuracy: 0.7937\n",
      "Epoch 15/200\n",
      "6/8 [=====================>........] - ETA: 0s - loss: 0.4434 - accuracy: 0.7604\n",
      "Epoch 15: val_accuracy did not improve from 0.80952\n",
      "8/8 [==============================] - 0s 39ms/step - loss: 0.4276 - accuracy: 0.7560 - val_loss: 0.4715 - val_accuracy: 0.7937\n",
      "Epoch 16/200\n",
      "6/8 [=====================>........] - ETA: 0s - loss: 0.4122 - accuracy: 0.7865\n",
      "Epoch 16: val_accuracy did not improve from 0.80952\n",
      "8/8 [==============================] - 0s 42ms/step - loss: 0.4017 - accuracy: 0.7960 - val_loss: 0.4611 - val_accuracy: 0.8095\n",
      "Epoch 17/200\n",
      "4/8 [==============>...............] - ETA: 0s - loss: 0.4049 - accuracy: 0.7891\n",
      "Epoch 17: val_accuracy did not improve from 0.80952\n",
      "8/8 [==============================] - 0s 41ms/step - loss: 0.4067 - accuracy: 0.8000 - val_loss: 0.4661 - val_accuracy: 0.8095\n",
      "Epoch 18/200\n",
      "5/8 [=================>............] - ETA: 0s - loss: 0.4106 - accuracy: 0.8125\n",
      "Epoch 18: val_accuracy did not improve from 0.80952\n",
      "8/8 [==============================] - 0s 41ms/step - loss: 0.3955 - accuracy: 0.8240 - val_loss: 0.4632 - val_accuracy: 0.8095\n",
      "Epoch 19/200\n",
      "7/8 [=========================>....] - ETA: 0s - loss: 0.3875 - accuracy: 0.7991\n",
      "Epoch 19: val_accuracy did not improve from 0.80952\n",
      "8/8 [==============================] - 0s 39ms/step - loss: 0.3977 - accuracy: 0.8080 - val_loss: 0.4799 - val_accuracy: 0.8095\n",
      "Epoch 20/200\n",
      "7/8 [=========================>....] - ETA: 0s - loss: 0.4204 - accuracy: 0.8036\n",
      "Epoch 20: val_accuracy did not improve from 0.80952\n",
      "8/8 [==============================] - 0s 46ms/step - loss: 0.4250 - accuracy: 0.8040 - val_loss: 0.4822 - val_accuracy: 0.8095\n",
      "Epoch 21/200\n",
      "5/8 [=================>............] - ETA: 0s - loss: 0.4112 - accuracy: 0.8000\n",
      "Epoch 21: val_accuracy did not improve from 0.80952\n",
      "8/8 [==============================] - 0s 41ms/step - loss: 0.3814 - accuracy: 0.8280 - val_loss: 0.4982 - val_accuracy: 0.7937\n",
      "Epoch 22/200\n",
      "5/8 [=================>............] - ETA: 0s - loss: 0.4247 - accuracy: 0.8188\n",
      "Epoch 22: val_accuracy did not improve from 0.80952\n",
      "8/8 [==============================] - 0s 31ms/step - loss: 0.3996 - accuracy: 0.8160 - val_loss: 0.4884 - val_accuracy: 0.7937\n",
      "Epoch 23/200\n",
      "8/8 [==============================] - ETA: 0s - loss: 0.3843 - accuracy: 0.8160\n",
      "Epoch 23: val_accuracy did not improve from 0.80952\n",
      "8/8 [==============================] - 0s 45ms/step - loss: 0.3843 - accuracy: 0.8160 - val_loss: 0.4723 - val_accuracy: 0.8095\n",
      "Epoch 24/200\n",
      "4/8 [==============>...............] - ETA: 0s - loss: 0.3661 - accuracy: 0.8281\n",
      "Epoch 24: val_accuracy did not improve from 0.80952\n",
      "8/8 [==============================] - 0s 40ms/step - loss: 0.3889 - accuracy: 0.8320 - val_loss: 0.4831 - val_accuracy: 0.8095\n",
      "Epoch 25/200\n",
      "6/8 [=====================>........] - ETA: 0s - loss: 0.3722 - accuracy: 0.8438\n",
      "Epoch 25: val_accuracy did not improve from 0.80952\n",
      "8/8 [==============================] - 0s 48ms/step - loss: 0.4059 - accuracy: 0.8200 - val_loss: 0.4942 - val_accuracy: 0.7937\n",
      "Epoch 26/200\n",
      "5/8 [=================>............] - ETA: 0s - loss: 0.3598 - accuracy: 0.8375\n",
      "Epoch 26: val_accuracy did not improve from 0.80952\n",
      "8/8 [==============================] - 0s 40ms/step - loss: 0.3849 - accuracy: 0.8160 - val_loss: 0.5162 - val_accuracy: 0.7937\n",
      "Epoch 27/200\n",
      "5/8 [=================>............] - ETA: 0s - loss: 0.4056 - accuracy: 0.8188\n",
      "Epoch 27: val_accuracy did not improve from 0.80952\n",
      "8/8 [==============================] - 0s 43ms/step - loss: 0.3921 - accuracy: 0.8200 - val_loss: 0.4931 - val_accuracy: 0.7937\n",
      "Epoch 28/200\n",
      "8/8 [==============================] - ETA: 0s - loss: 0.3851 - accuracy: 0.8280\n",
      "Epoch 28: val_accuracy did not improve from 0.80952\n",
      "8/8 [==============================] - 0s 55ms/step - loss: 0.3851 - accuracy: 0.8280 - val_loss: 0.4930 - val_accuracy: 0.7937\n",
      "Epoch 29/200\n",
      "6/8 [=====================>........] - ETA: 0s - loss: 0.3338 - accuracy: 0.8646\n",
      "Epoch 29: val_accuracy did not improve from 0.80952\n",
      "8/8 [==============================] - 0s 28ms/step - loss: 0.3591 - accuracy: 0.8360 - val_loss: 0.5005 - val_accuracy: 0.7937\n",
      "Epoch 30/200\n",
      "5/8 [=================>............] - ETA: 0s - loss: 0.4212 - accuracy: 0.8062\n",
      "Epoch 30: val_accuracy did not improve from 0.80952\n",
      "8/8 [==============================] - 0s 40ms/step - loss: 0.3849 - accuracy: 0.8160 - val_loss: 0.5127 - val_accuracy: 0.7937\n",
      "Epoch 31/200\n",
      "5/8 [=================>............] - ETA: 0s - loss: 0.4004 - accuracy: 0.8125\n",
      "Epoch 31: val_accuracy did not improve from 0.80952\n",
      "8/8 [==============================] - 0s 28ms/step - loss: 0.3980 - accuracy: 0.8240 - val_loss: 0.5085 - val_accuracy: 0.7937\n",
      "Epoch 32/200\n",
      "6/8 [=====================>........] - ETA: 0s - loss: 0.3827 - accuracy: 0.8490\n",
      "Epoch 32: val_accuracy did not improve from 0.80952\n",
      "8/8 [==============================] - 0s 27ms/step - loss: 0.3732 - accuracy: 0.8480 - val_loss: 0.5130 - val_accuracy: 0.7937\n",
      "Epoch 33/200\n",
      "5/8 [=================>............] - ETA: 0s - loss: 0.2930 - accuracy: 0.8687\n",
      "Epoch 33: val_accuracy did not improve from 0.80952\n",
      "8/8 [==============================] - 0s 33ms/step - loss: 0.3483 - accuracy: 0.8520 - val_loss: 0.5312 - val_accuracy: 0.7937\n",
      "Epoch 34/200\n",
      "5/8 [=================>............] - ETA: 0s - loss: 0.3662 - accuracy: 0.8062\n",
      "Epoch 34: val_accuracy did not improve from 0.80952\n",
      "8/8 [==============================] - 0s 44ms/step - loss: 0.3898 - accuracy: 0.8000 - val_loss: 0.5319 - val_accuracy: 0.7937\n",
      "Epoch 35/200\n",
      "6/8 [=====================>........] - ETA: 0s - loss: 0.3775 - accuracy: 0.8333\n",
      "Epoch 35: val_accuracy did not improve from 0.80952\n",
      "8/8 [==============================] - 0s 26ms/step - loss: 0.3778 - accuracy: 0.8400 - val_loss: 0.5138 - val_accuracy: 0.7937\n",
      "Epoch 36/200\n",
      "5/8 [=================>............] - ETA: 0s - loss: 0.3903 - accuracy: 0.8062\n",
      "Epoch 36: val_accuracy did not improve from 0.80952\n",
      "8/8 [==============================] - 0s 32ms/step - loss: 0.3831 - accuracy: 0.8160 - val_loss: 0.5187 - val_accuracy: 0.7937\n",
      "Epoch 37/200\n",
      "8/8 [==============================] - ETA: 0s - loss: 0.3504 - accuracy: 0.8320\n",
      "Epoch 37: val_accuracy did not improve from 0.80952\n",
      "8/8 [==============================] - 0s 42ms/step - loss: 0.3504 - accuracy: 0.8320 - val_loss: 0.5258 - val_accuracy: 0.7937\n",
      "Epoch 38/200\n",
      "5/8 [=================>............] - ETA: 0s - loss: 0.3477 - accuracy: 0.8188\n",
      "Epoch 38: val_accuracy did not improve from 0.80952\n",
      "8/8 [==============================] - 0s 41ms/step - loss: 0.3708 - accuracy: 0.8280 - val_loss: 0.5234 - val_accuracy: 0.7937\n",
      "Epoch 39/200\n",
      "5/8 [=================>............] - ETA: 0s - loss: 0.3575 - accuracy: 0.8687\n",
      "Epoch 39: val_accuracy did not improve from 0.80952\n",
      "8/8 [==============================] - 0s 25ms/step - loss: 0.3603 - accuracy: 0.8640 - val_loss: 0.5149 - val_accuracy: 0.7937\n",
      "Epoch 40/200\n",
      "5/8 [=================>............] - ETA: 0s - loss: 0.3431 - accuracy: 0.8500\n",
      "Epoch 40: val_accuracy did not improve from 0.80952\n",
      "8/8 [==============================] - 0s 39ms/step - loss: 0.3566 - accuracy: 0.8560 - val_loss: 0.5336 - val_accuracy: 0.7937\n",
      "Epoch 41/200\n",
      "5/8 [=================>............] - ETA: 0s - loss: 0.3561 - accuracy: 0.8438\n",
      "Epoch 41: val_accuracy did not improve from 0.80952\n",
      "8/8 [==============================] - 0s 30ms/step - loss: 0.3537 - accuracy: 0.8320 - val_loss: 0.5370 - val_accuracy: 0.7937\n",
      "Epoch 42/200\n",
      "5/8 [=================>............] - ETA: 0s - loss: 0.3715 - accuracy: 0.8188\n",
      "Epoch 42: val_accuracy did not improve from 0.80952\n",
      "8/8 [==============================] - 0s 28ms/step - loss: 0.3509 - accuracy: 0.8320 - val_loss: 0.5252 - val_accuracy: 0.7937\n",
      "Epoch 43/200\n",
      "5/8 [=================>............] - ETA: 0s - loss: 0.3862 - accuracy: 0.7937\n",
      "Epoch 43: val_accuracy did not improve from 0.80952\n",
      "8/8 [==============================] - 0s 34ms/step - loss: 0.3507 - accuracy: 0.8280 - val_loss: 0.5216 - val_accuracy: 0.7778\n",
      "Epoch 44/200\n",
      "5/8 [=================>............] - ETA: 0s - loss: 0.3367 - accuracy: 0.8188\n",
      "Epoch 44: val_accuracy did not improve from 0.80952\n",
      "8/8 [==============================] - 0s 36ms/step - loss: 0.3586 - accuracy: 0.8280 - val_loss: 0.5421 - val_accuracy: 0.7937\n",
      "Epoch 45/200\n",
      "8/8 [==============================] - ETA: 0s - loss: 0.3432 - accuracy: 0.8640\n",
      "Epoch 45: val_accuracy did not improve from 0.80952\n",
      "8/8 [==============================] - 0s 33ms/step - loss: 0.3432 - accuracy: 0.8640 - val_loss: 0.5435 - val_accuracy: 0.7937\n",
      "Epoch 46/200\n",
      "8/8 [==============================] - ETA: 0s - loss: 0.3616 - accuracy: 0.8440\n",
      "Epoch 46: val_accuracy did not improve from 0.80952\n",
      "8/8 [==============================] - 0s 46ms/step - loss: 0.3616 - accuracy: 0.8440 - val_loss: 0.5502 - val_accuracy: 0.7937\n",
      "Epoch 47/200\n",
      "8/8 [==============================] - ETA: 0s - loss: 0.3437 - accuracy: 0.8600\n",
      "Epoch 47: val_accuracy did not improve from 0.80952\n",
      "8/8 [==============================] - 0s 43ms/step - loss: 0.3437 - accuracy: 0.8600 - val_loss: 0.5305 - val_accuracy: 0.7937\n",
      "Epoch 48/200\n",
      "6/8 [=====================>........] - ETA: 0s - loss: 0.3270 - accuracy: 0.8490\n",
      "Epoch 48: val_accuracy did not improve from 0.80952\n",
      "8/8 [==============================] - 0s 42ms/step - loss: 0.3306 - accuracy: 0.8560 - val_loss: 0.5337 - val_accuracy: 0.7937\n",
      "Epoch 49/200\n",
      "6/8 [=====================>........] - ETA: 0s - loss: 0.3370 - accuracy: 0.8385\n",
      "Epoch 49: val_accuracy did not improve from 0.80952\n",
      "8/8 [==============================] - 0s 28ms/step - loss: 0.3448 - accuracy: 0.8480 - val_loss: 0.5427 - val_accuracy: 0.7937\n",
      "Epoch 50/200\n",
      "5/8 [=================>............] - ETA: 0s - loss: 0.3432 - accuracy: 0.8500\n",
      "Epoch 50: val_accuracy did not improve from 0.80952\n",
      "8/8 [==============================] - 0s 39ms/step - loss: 0.3516 - accuracy: 0.8360 - val_loss: 0.5690 - val_accuracy: 0.7937\n",
      "Epoch 51/200\n",
      "5/8 [=================>............] - ETA: 0s - loss: 0.3765 - accuracy: 0.8313\n",
      "Epoch 51: val_accuracy did not improve from 0.80952\n",
      "8/8 [==============================] - 0s 44ms/step - loss: 0.3407 - accuracy: 0.8440 - val_loss: 0.5651 - val_accuracy: 0.7937\n",
      "Epoch 52/200\n",
      "7/8 [=========================>....] - ETA: 0s - loss: 0.3576 - accuracy: 0.8393\n",
      "Epoch 52: val_accuracy did not improve from 0.80952\n",
      "8/8 [==============================] - 0s 45ms/step - loss: 0.3455 - accuracy: 0.8440 - val_loss: 0.5597 - val_accuracy: 0.7937\n",
      "Epoch 53/200\n",
      "5/8 [=================>............] - ETA: 0s - loss: 0.3010 - accuracy: 0.8813\n",
      "Epoch 53: val_accuracy did not improve from 0.80952\n",
      "8/8 [==============================] - 0s 26ms/step - loss: 0.3314 - accuracy: 0.8680 - val_loss: 0.5531 - val_accuracy: 0.7937\n",
      "Epoch 54/200\n",
      "7/8 [=========================>....] - ETA: 0s - loss: 0.3313 - accuracy: 0.8304\n",
      "Epoch 54: val_accuracy did not improve from 0.80952\n",
      "8/8 [==============================] - 0s 30ms/step - loss: 0.3599 - accuracy: 0.8200 - val_loss: 0.5475 - val_accuracy: 0.7937\n",
      "Epoch 55/200\n",
      "7/8 [=========================>....] - ETA: 0s - loss: 0.3155 - accuracy: 0.8750\n",
      "Epoch 55: val_accuracy did not improve from 0.80952\n",
      "8/8 [==============================] - 0s 34ms/step - loss: 0.3199 - accuracy: 0.8680 - val_loss: 0.5486 - val_accuracy: 0.7937\n",
      "Epoch 56/200\n",
      "5/8 [=================>............] - ETA: 0s - loss: 0.3149 - accuracy: 0.8500\n",
      "Epoch 56: val_accuracy did not improve from 0.80952\n",
      "8/8 [==============================] - 0s 41ms/step - loss: 0.3127 - accuracy: 0.8480 - val_loss: 0.5795 - val_accuracy: 0.7937\n",
      "Epoch 57/200\n",
      "5/8 [=================>............] - ETA: 0s - loss: 0.3284 - accuracy: 0.8687\n",
      "Epoch 57: val_accuracy did not improve from 0.80952\n",
      "8/8 [==============================] - 0s 37ms/step - loss: 0.3340 - accuracy: 0.8560 - val_loss: 0.5661 - val_accuracy: 0.7937\n",
      "Epoch 58/200\n",
      "6/8 [=====================>........] - ETA: 0s - loss: 0.2942 - accuracy: 0.8750\n",
      "Epoch 58: val_accuracy did not improve from 0.80952\n",
      "8/8 [==============================] - 0s 40ms/step - loss: 0.3295 - accuracy: 0.8560 - val_loss: 0.5552 - val_accuracy: 0.7619\n",
      "Epoch 59/200\n",
      "4/8 [==============>...............] - ETA: 0s - loss: 0.2979 - accuracy: 0.8906\n",
      "Epoch 59: val_accuracy did not improve from 0.80952\n",
      "8/8 [==============================] - 0s 44ms/step - loss: 0.3123 - accuracy: 0.8880 - val_loss: 0.5807 - val_accuracy: 0.7937\n",
      "Epoch 60/200\n",
      "6/8 [=====================>........] - ETA: 0s - loss: 0.3133 - accuracy: 0.8698\n",
      "Epoch 60: val_accuracy did not improve from 0.80952\n",
      "8/8 [==============================] - 0s 40ms/step - loss: 0.3420 - accuracy: 0.8440 - val_loss: 0.6149 - val_accuracy: 0.7937\n",
      "Epoch 61/200\n",
      "5/8 [=================>............] - ETA: 0s - loss: 0.3550 - accuracy: 0.8313\n",
      "Epoch 61: val_accuracy did not improve from 0.80952\n",
      "8/8 [==============================] - 0s 39ms/step - loss: 0.3351 - accuracy: 0.8560 - val_loss: 0.5925 - val_accuracy: 0.7937\n",
      "Epoch 62/200\n",
      "4/8 [==============>...............] - ETA: 0s - loss: 0.3077 - accuracy: 0.8750\n",
      "Epoch 62: val_accuracy did not improve from 0.80952\n",
      "8/8 [==============================] - 0s 46ms/step - loss: 0.3138 - accuracy: 0.8760 - val_loss: 0.5752 - val_accuracy: 0.7937\n",
      "Epoch 63/200\n",
      "5/8 [=================>............] - ETA: 0s - loss: 0.3427 - accuracy: 0.8562\n",
      "Epoch 63: val_accuracy did not improve from 0.80952\n",
      "8/8 [==============================] - 0s 53ms/step - loss: 0.3411 - accuracy: 0.8440 - val_loss: 0.5648 - val_accuracy: 0.7778\n",
      "Epoch 64/200\n",
      "8/8 [==============================] - ETA: 0s - loss: 0.3264 - accuracy: 0.8600\n",
      "Epoch 64: val_accuracy did not improve from 0.80952\n",
      "8/8 [==============================] - 0s 45ms/step - loss: 0.3264 - accuracy: 0.8600 - val_loss: 0.5711 - val_accuracy: 0.7778\n",
      "Epoch 65/200\n",
      "6/8 [=====================>........] - ETA: 0s - loss: 0.3031 - accuracy: 0.8490\n",
      "Epoch 65: val_accuracy did not improve from 0.80952\n",
      "8/8 [==============================] - 0s 41ms/step - loss: 0.3256 - accuracy: 0.8400 - val_loss: 0.5716 - val_accuracy: 0.7778\n",
      "Epoch 66/200\n",
      "8/8 [==============================] - ETA: 0s - loss: 0.3614 - accuracy: 0.8520\n",
      "Epoch 66: val_accuracy did not improve from 0.80952\n",
      "8/8 [==============================] - 0s 44ms/step - loss: 0.3614 - accuracy: 0.8520 - val_loss: 0.5637 - val_accuracy: 0.7778\n",
      "Epoch 67/200\n",
      "5/8 [=================>............] - ETA: 0s - loss: 0.3217 - accuracy: 0.8625\n",
      "Epoch 67: val_accuracy did not improve from 0.80952\n",
      "8/8 [==============================] - 0s 30ms/step - loss: 0.3118 - accuracy: 0.8640 - val_loss: 0.5662 - val_accuracy: 0.7778\n",
      "Epoch 68/200\n",
      "4/8 [==============>...............] - ETA: 0s - loss: 0.3037 - accuracy: 0.8750\n",
      "Epoch 68: val_accuracy did not improve from 0.80952\n",
      "8/8 [==============================] - 0s 41ms/step - loss: 0.3123 - accuracy: 0.8600 - val_loss: 0.5759 - val_accuracy: 0.7937\n",
      "Epoch 69/200\n",
      "5/8 [=================>............] - ETA: 0s - loss: 0.3053 - accuracy: 0.8625\n",
      "Epoch 69: val_accuracy did not improve from 0.80952\n",
      "8/8 [==============================] - 0s 35ms/step - loss: 0.3199 - accuracy: 0.8600 - val_loss: 0.5741 - val_accuracy: 0.7937\n",
      "Epoch 70/200\n",
      "5/8 [=================>............] - ETA: 0s - loss: 0.3014 - accuracy: 0.8687\n",
      "Epoch 70: val_accuracy did not improve from 0.80952\n",
      "8/8 [==============================] - 0s 40ms/step - loss: 0.3348 - accuracy: 0.8400 - val_loss: 0.5765 - val_accuracy: 0.7937\n",
      "Epoch 71/200\n",
      "5/8 [=================>............] - ETA: 0s - loss: 0.3136 - accuracy: 0.8813\n",
      "Epoch 71: val_accuracy did not improve from 0.80952\n",
      "8/8 [==============================] - 0s 33ms/step - loss: 0.3114 - accuracy: 0.8760 - val_loss: 0.5784 - val_accuracy: 0.7937\n",
      "Epoch 72/200\n",
      "8/8 [==============================] - ETA: 0s - loss: 0.3054 - accuracy: 0.8680\n",
      "Epoch 72: val_accuracy did not improve from 0.80952\n",
      "8/8 [==============================] - 0s 46ms/step - loss: 0.3054 - accuracy: 0.8680 - val_loss: 0.5969 - val_accuracy: 0.7937\n",
      "Epoch 73/200\n",
      "5/8 [=================>............] - ETA: 0s - loss: 0.3594 - accuracy: 0.8500\n",
      "Epoch 73: val_accuracy did not improve from 0.80952\n",
      "8/8 [==============================] - 0s 41ms/step - loss: 0.3115 - accuracy: 0.8840 - val_loss: 0.5981 - val_accuracy: 0.7778\n",
      "Epoch 74/200\n",
      "5/8 [=================>............] - ETA: 0s - loss: 0.3298 - accuracy: 0.8875\n",
      "Epoch 74: val_accuracy did not improve from 0.80952\n",
      "8/8 [==============================] - 0s 41ms/step - loss: 0.3368 - accuracy: 0.8720 - val_loss: 0.5854 - val_accuracy: 0.7778\n",
      "Epoch 75/200\n",
      "5/8 [=================>............] - ETA: 0s - loss: 0.3024 - accuracy: 0.8750\n",
      "Epoch 75: val_accuracy did not improve from 0.80952\n",
      "8/8 [==============================] - 0s 34ms/step - loss: 0.3151 - accuracy: 0.8600 - val_loss: 0.5882 - val_accuracy: 0.7937\n",
      "Epoch 76/200\n",
      "5/8 [=================>............] - ETA: 0s - loss: 0.3224 - accuracy: 0.8500\n",
      "Epoch 76: val_accuracy did not improve from 0.80952\n",
      "8/8 [==============================] - 0s 47ms/step - loss: 0.3013 - accuracy: 0.8560 - val_loss: 0.6054 - val_accuracy: 0.7937\n",
      "Epoch 77/200\n",
      "6/8 [=====================>........] - ETA: 0s - loss: 0.2976 - accuracy: 0.8958\n",
      "Epoch 77: val_accuracy did not improve from 0.80952\n",
      "8/8 [==============================] - 0s 40ms/step - loss: 0.3117 - accuracy: 0.8840 - val_loss: 0.6040 - val_accuracy: 0.7937\n",
      "Epoch 78/200\n",
      "5/8 [=================>............] - ETA: 0s - loss: 0.3020 - accuracy: 0.8500\n",
      "Epoch 78: val_accuracy did not improve from 0.80952\n",
      "8/8 [==============================] - 0s 40ms/step - loss: 0.2920 - accuracy: 0.8560 - val_loss: 0.5888 - val_accuracy: 0.7778\n",
      "Epoch 79/200\n",
      "8/8 [==============================] - ETA: 0s - loss: 0.3036 - accuracy: 0.8600\n",
      "Epoch 79: val_accuracy did not improve from 0.80952\n",
      "8/8 [==============================] - 0s 33ms/step - loss: 0.3036 - accuracy: 0.8600 - val_loss: 0.5904 - val_accuracy: 0.7778\n",
      "Epoch 80/200\n",
      "8/8 [==============================] - ETA: 0s - loss: 0.3484 - accuracy: 0.8600\n",
      "Epoch 80: val_accuracy did not improve from 0.80952\n",
      "8/8 [==============================] - 0s 40ms/step - loss: 0.3484 - accuracy: 0.8600 - val_loss: 0.6104 - val_accuracy: 0.7778\n",
      "Epoch 81/200\n",
      "4/8 [==============>...............] - ETA: 0s - loss: 0.2680 - accuracy: 0.8750\n",
      "Epoch 81: val_accuracy did not improve from 0.80952\n",
      "8/8 [==============================] - 0s 41ms/step - loss: 0.2892 - accuracy: 0.8680 - val_loss: 0.6021 - val_accuracy: 0.7619\n",
      "Epoch 82/200\n",
      "6/8 [=====================>........] - ETA: 0s - loss: 0.2593 - accuracy: 0.9167\n",
      "Epoch 82: val_accuracy did not improve from 0.80952\n",
      "8/8 [==============================] - 0s 27ms/step - loss: 0.2691 - accuracy: 0.9120 - val_loss: 0.6151 - val_accuracy: 0.7619\n",
      "Epoch 83/200\n",
      "6/8 [=====================>........] - ETA: 0s - loss: 0.3655 - accuracy: 0.8281\n",
      "Epoch 83: val_accuracy did not improve from 0.80952\n",
      "8/8 [==============================] - 0s 29ms/step - loss: 0.3269 - accuracy: 0.8560 - val_loss: 0.6453 - val_accuracy: 0.7778\n",
      "Epoch 84/200\n",
      "5/8 [=================>............] - ETA: 0s - loss: 0.3238 - accuracy: 0.8562\n",
      "Epoch 84: val_accuracy did not improve from 0.80952\n",
      "8/8 [==============================] - 0s 30ms/step - loss: 0.2976 - accuracy: 0.8720 - val_loss: 0.6447 - val_accuracy: 0.7778\n",
      "Epoch 85/200\n",
      "5/8 [=================>............] - ETA: 0s - loss: 0.3227 - accuracy: 0.8375\n",
      "Epoch 85: val_accuracy did not improve from 0.80952\n",
      "8/8 [==============================] - 0s 35ms/step - loss: 0.2972 - accuracy: 0.8600 - val_loss: 0.6274 - val_accuracy: 0.7460\n",
      "Epoch 86/200\n",
      "4/8 [==============>...............] - ETA: 0s - loss: 0.2881 - accuracy: 0.8906\n",
      "Epoch 86: val_accuracy did not improve from 0.80952\n",
      "8/8 [==============================] - 0s 37ms/step - loss: 0.3165 - accuracy: 0.8760 - val_loss: 0.6269 - val_accuracy: 0.7460\n",
      "Epoch 87/200\n",
      "5/8 [=================>............] - ETA: 0s - loss: 0.3230 - accuracy: 0.8687\n",
      "Epoch 87: val_accuracy did not improve from 0.80952\n",
      "8/8 [==============================] - 0s 36ms/step - loss: 0.3174 - accuracy: 0.8680 - val_loss: 0.6210 - val_accuracy: 0.7460\n",
      "Epoch 88/200\n",
      "5/8 [=================>............] - ETA: 0s - loss: 0.2725 - accuracy: 0.8750\n",
      "Epoch 88: val_accuracy did not improve from 0.80952\n",
      "8/8 [==============================] - 0s 35ms/step - loss: 0.2781 - accuracy: 0.8880 - val_loss: 0.6273 - val_accuracy: 0.7619\n",
      "Epoch 89/200\n",
      "6/8 [=====================>........] - ETA: 0s - loss: 0.2657 - accuracy: 0.8698\n",
      "Epoch 89: val_accuracy did not improve from 0.80952\n",
      "8/8 [==============================] - 0s 51ms/step - loss: 0.2973 - accuracy: 0.8600 - val_loss: 0.6342 - val_accuracy: 0.7778\n",
      "Epoch 90/200\n",
      "6/8 [=====================>........] - ETA: 0s - loss: 0.2911 - accuracy: 0.8906\n",
      "Epoch 90: val_accuracy did not improve from 0.80952\n",
      "8/8 [==============================] - 0s 40ms/step - loss: 0.2851 - accuracy: 0.8960 - val_loss: 0.6348 - val_accuracy: 0.7619\n",
      "Epoch 91/200\n",
      "5/8 [=================>............] - ETA: 0s - loss: 0.2603 - accuracy: 0.8875\n",
      "Epoch 91: val_accuracy did not improve from 0.80952\n",
      "8/8 [==============================] - 0s 33ms/step - loss: 0.3048 - accuracy: 0.8560 - val_loss: 0.6467 - val_accuracy: 0.7778\n",
      "Epoch 92/200\n",
      "7/8 [=========================>....] - ETA: 0s - loss: 0.2717 - accuracy: 0.8884\n",
      "Epoch 92: val_accuracy did not improve from 0.80952\n",
      "8/8 [==============================] - 0s 40ms/step - loss: 0.2786 - accuracy: 0.8800 - val_loss: 0.6314 - val_accuracy: 0.7778\n",
      "Epoch 93/200\n",
      "8/8 [==============================] - ETA: 0s - loss: 0.3130 - accuracy: 0.8880\n",
      "Epoch 93: val_accuracy did not improve from 0.80952\n",
      "8/8 [==============================] - 0s 47ms/step - loss: 0.3130 - accuracy: 0.8880 - val_loss: 0.6367 - val_accuracy: 0.7937\n",
      "Epoch 94/200\n",
      "8/8 [==============================] - ETA: 0s - loss: 0.2733 - accuracy: 0.8680\n",
      "Epoch 94: val_accuracy did not improve from 0.80952\n",
      "8/8 [==============================] - 0s 47ms/step - loss: 0.2733 - accuracy: 0.8680 - val_loss: 0.6191 - val_accuracy: 0.7778\n",
      "Epoch 95/200\n",
      "5/8 [=================>............] - ETA: 0s - loss: 0.3377 - accuracy: 0.8313\n",
      "Epoch 95: val_accuracy did not improve from 0.80952\n",
      "8/8 [==============================] - 0s 38ms/step - loss: 0.3153 - accuracy: 0.8440 - val_loss: 0.6083 - val_accuracy: 0.7778\n",
      "Epoch 96/200\n",
      "6/8 [=====================>........] - ETA: 0s - loss: 0.2653 - accuracy: 0.9010\n",
      "Epoch 96: val_accuracy did not improve from 0.80952\n",
      "8/8 [==============================] - 0s 29ms/step - loss: 0.2792 - accuracy: 0.8880 - val_loss: 0.6151 - val_accuracy: 0.7619\n",
      "Epoch 97/200\n",
      "7/8 [=========================>....] - ETA: 0s - loss: 0.2716 - accuracy: 0.8795\n",
      "Epoch 97: val_accuracy did not improve from 0.80952\n",
      "8/8 [==============================] - 0s 49ms/step - loss: 0.2736 - accuracy: 0.8760 - val_loss: 0.6415 - val_accuracy: 0.7619\n",
      "Epoch 98/200\n",
      "6/8 [=====================>........] - ETA: 0s - loss: 0.2806 - accuracy: 0.8698\n",
      "Epoch 98: val_accuracy did not improve from 0.80952\n",
      "8/8 [==============================] - 0s 42ms/step - loss: 0.3010 - accuracy: 0.8600 - val_loss: 0.6443 - val_accuracy: 0.7619\n",
      "Epoch 99/200\n",
      "8/8 [==============================] - ETA: 0s - loss: 0.3031 - accuracy: 0.8640\n",
      "Epoch 99: val_accuracy did not improve from 0.80952\n",
      "8/8 [==============================] - 0s 48ms/step - loss: 0.3031 - accuracy: 0.8640 - val_loss: 0.6357 - val_accuracy: 0.7619\n",
      "Epoch 100/200\n",
      "8/8 [==============================] - ETA: 0s - loss: 0.2916 - accuracy: 0.8640\n",
      "Epoch 100: val_accuracy did not improve from 0.80952\n",
      "8/8 [==============================] - 0s 45ms/step - loss: 0.2916 - accuracy: 0.8640 - val_loss: 0.6212 - val_accuracy: 0.7937\n",
      "Epoch 101/200\n",
      "6/8 [=====================>........] - ETA: 0s - loss: 0.3076 - accuracy: 0.8385\n",
      "Epoch 101: val_accuracy did not improve from 0.80952\n",
      "8/8 [==============================] - 0s 41ms/step - loss: 0.3232 - accuracy: 0.8360 - val_loss: 0.6303 - val_accuracy: 0.7619\n",
      "Epoch 102/200\n",
      "5/8 [=================>............] - ETA: 0s - loss: 0.2996 - accuracy: 0.8562\n",
      "Epoch 102: val_accuracy did not improve from 0.80952\n",
      "8/8 [==============================] - 0s 41ms/step - loss: 0.2913 - accuracy: 0.8600 - val_loss: 0.6407 - val_accuracy: 0.7460\n",
      "Epoch 103/200\n",
      "5/8 [=================>............] - ETA: 0s - loss: 0.2955 - accuracy: 0.8813\n",
      "Epoch 103: val_accuracy did not improve from 0.80952\n",
      "8/8 [==============================] - 0s 43ms/step - loss: 0.2622 - accuracy: 0.8960 - val_loss: 0.6330 - val_accuracy: 0.7460\n",
      "Epoch 104/200\n",
      "6/8 [=====================>........] - ETA: 0s - loss: 0.2542 - accuracy: 0.9010\n",
      "Epoch 104: val_accuracy did not improve from 0.80952\n",
      "8/8 [==============================] - 0s 39ms/step - loss: 0.2379 - accuracy: 0.9120 - val_loss: 0.6631 - val_accuracy: 0.7460\n",
      "Epoch 105/200\n",
      "5/8 [=================>............] - ETA: 0s - loss: 0.2525 - accuracy: 0.9125\n",
      "Epoch 105: val_accuracy did not improve from 0.80952\n",
      "8/8 [==============================] - 0s 41ms/step - loss: 0.2964 - accuracy: 0.8920 - val_loss: 0.6848 - val_accuracy: 0.7619\n",
      "Epoch 106/200\n",
      "7/8 [=========================>....] - ETA: 0s - loss: 0.2772 - accuracy: 0.8616\n",
      "Epoch 106: val_accuracy did not improve from 0.80952\n",
      "8/8 [==============================] - 0s 53ms/step - loss: 0.2856 - accuracy: 0.8560 - val_loss: 0.7024 - val_accuracy: 0.7619\n",
      "Epoch 107/200\n",
      "6/8 [=====================>........] - ETA: 0s - loss: 0.2502 - accuracy: 0.9010\n",
      "Epoch 107: val_accuracy did not improve from 0.80952\n",
      "8/8 [==============================] - 0s 50ms/step - loss: 0.2957 - accuracy: 0.8840 - val_loss: 0.6955 - val_accuracy: 0.7619\n"
     ]
    },
    {
     "data": {
      "text/plain": [
       "<keras.callbacks.History at 0x7fe30b527f10>"
      ]
     },
     "execution_count": 15,
     "metadata": {},
     "output_type": "execute_result"
    }
   ],
   "source": [
    "model.fit(X_train, Y_train, epochs=200, validation_split=0.2, callbacks=[checkpointsaver,early_stop])"
   ]
  },
  {
   "cell_type": "code",
   "execution_count": 16,
   "metadata": {
    "colab": {
     "base_uri": "https://localhost:8080/"
    },
    "id": "nERzu8KqUKQO",
    "outputId": "e10a917f-82cb-4a62-a4c3-77007cd796c3"
   },
   "outputs": [
    {
     "name": "stdout",
     "output_type": "stream",
     "text": [
      "1/1 [==============================] - 0s 73ms/step - loss: 0.5372 - accuracy: 0.7848\n"
     ]
    },
    {
     "data": {
      "text/plain": [
       "[0.5372363328933716, 0.7848101258277893]"
      ]
     },
     "execution_count": 16,
     "metadata": {},
     "output_type": "execute_result"
    }
   ],
   "source": [
    "model.evaluate(X_test,Y_test,batch_size=100)"
   ]
  },
  {
   "cell_type": "code",
   "execution_count": 17,
   "metadata": {},
   "outputs": [],
   "source": [
    "model=load_model('./models')"
   ]
  },
  {
   "cell_type": "code",
   "execution_count": 18,
   "metadata": {
    "scrolled": true
   },
   "outputs": [
    {
     "name": "stdout",
     "output_type": "stream",
     "text": [
      "3/3 [==============================] - 0s 15ms/step\n"
     ]
    },
    {
     "data": {
      "text/plain": [
       "array([[7.2740549e-01],\n",
       "       [2.4807167e-01],\n",
       "       [2.0013607e-01],\n",
       "       [3.7620407e-01],\n",
       "       [4.6927735e-01],\n",
       "       [6.6713995e-01],\n",
       "       [2.8403072e-02],\n",
       "       [1.8227273e-01],\n",
       "       [9.1794097e-01],\n",
       "       [2.9855004e-01],\n",
       "       [1.6411945e-01],\n",
       "       [5.8049738e-01],\n",
       "       [9.2856425e-01],\n",
       "       [6.3299382e-01],\n",
       "       [1.0811509e-01],\n",
       "       [6.4003605e-01],\n",
       "       [4.5508191e-01],\n",
       "       [7.8264803e-02],\n",
       "       [9.5911905e-02],\n",
       "       [4.4532382e-01],\n",
       "       [7.9025352e-01],\n",
       "       [4.2128209e-03],\n",
       "       [4.2248610e-02],\n",
       "       [5.8510882e-01],\n",
       "       [4.6335888e-01],\n",
       "       [9.4078019e-02],\n",
       "       [7.6086712e-01],\n",
       "       [5.4573232e-01],\n",
       "       [4.5819927e-02],\n",
       "       [5.7882690e-01],\n",
       "       [6.1223600e-02],\n",
       "       [3.2180294e-02],\n",
       "       [9.3655564e-02],\n",
       "       [9.3674994e-01],\n",
       "       [1.9002995e-02],\n",
       "       [4.0378361e-03],\n",
       "       [6.8560146e-02],\n",
       "       [2.7313358e-01],\n",
       "       [6.7548826e-02],\n",
       "       [1.0484735e-01],\n",
       "       [8.7740803e-01],\n",
       "       [8.3939731e-02],\n",
       "       [9.5783643e-02],\n",
       "       [3.1516230e-01],\n",
       "       [7.5608540e-01],\n",
       "       [5.9805363e-01],\n",
       "       [6.1985177e-01],\n",
       "       [5.9755284e-01],\n",
       "       [3.0753207e-01],\n",
       "       [8.7365967e-01],\n",
       "       [9.2956054e-01],\n",
       "       [7.1554011e-01],\n",
       "       [1.8979160e-02],\n",
       "       [1.5232940e-01],\n",
       "       [9.0638328e-01],\n",
       "       [2.8691891e-01],\n",
       "       [7.4584556e-01],\n",
       "       [5.7156307e-01],\n",
       "       [2.5435224e-01],\n",
       "       [9.3645948e-01],\n",
       "       [1.3878447e-01],\n",
       "       [5.0434381e-01],\n",
       "       [1.5328821e-03],\n",
       "       [5.5385673e-01],\n",
       "       [4.3131243e-02],\n",
       "       [1.8657550e-02],\n",
       "       [1.6174760e-02],\n",
       "       [8.8859349e-01],\n",
       "       [1.4141558e-01],\n",
       "       [3.8240629e-01],\n",
       "       [5.3983118e-02],\n",
       "       [8.0025569e-02],\n",
       "       [7.3777509e-01],\n",
       "       [2.7259966e-02],\n",
       "       [1.0072271e-01],\n",
       "       [8.0512528e-04],\n",
       "       [3.5620651e-01],\n",
       "       [4.8573658e-01],\n",
       "       [1.9742277e-01]], dtype=float32)"
      ]
     },
     "execution_count": 18,
     "metadata": {},
     "output_type": "execute_result"
    }
   ],
   "source": [
    "model.predict(X_test)"
   ]
  },
  {
   "cell_type": "code",
   "execution_count": 19,
   "metadata": {},
   "outputs": [
    {
     "name": "stdout",
     "output_type": "stream",
     "text": [
      "3/3 [==============================] - 0s 30ms/step\n"
     ]
    },
    {
     "data": {
      "text/plain": [
       "(79, 1)"
      ]
     },
     "execution_count": 19,
     "metadata": {},
     "output_type": "execute_result"
    }
   ],
   "source": [
    "np.shape(model.predict(X_test))\n"
   ]
  },
  {
   "cell_type": "code",
   "execution_count": 20,
   "metadata": {},
   "outputs": [
    {
     "data": {
      "text/plain": [
       "715    1\n",
       "700    0\n",
       "325    0\n",
       "648    1\n",
       "128    1\n",
       "      ..\n",
       "169    0\n",
       "617    0\n",
       "63     0\n",
       "395    0\n",
       "709    1\n",
       "Name: Outcome, Length: 79, dtype: int64"
      ]
     },
     "execution_count": 20,
     "metadata": {},
     "output_type": "execute_result"
    }
   ],
   "source": [
    "Y_test"
   ]
  },
  {
   "cell_type": "code",
   "execution_count": 25,
   "metadata": {},
   "outputs": [
    {
     "name": "stderr",
     "output_type": "stream",
     "text": [
      "/home/vickarmand/miniconda3/envs/ML_DS_AI/lib/python3.11/site-packages/sklearn/base.py:493: UserWarning: X does not have valid feature names, but StandardScaler was fitted with feature names\n",
      "  warnings.warn(\n"
     ]
    },
    {
     "name": "stdout",
     "output_type": "stream",
     "text": [
      "1/1 [==============================] - 0s 73ms/step\n",
      "[[1.]]\n",
      "You have higher chances of diabetes\n"
     ]
    }
   ],
   "source": [
    "pregnanciesno=1\n",
    "glucose=137\n",
    "bmi=45\n",
    "insulin=200\n",
    "Age=33\n",
    "bloodpressure=300\n",
    "# SkinThickness=40\n",
    "# pedigree=2.288\n",
    "features=[pregnanciesno,glucose,bloodpressure,insulin,bmi,Age]\n",
    "features=np.array(features)\n",
    "features=features.reshape(1,-1)\n",
    "features=scaler.transform(features)\n",
    "predictionvalue=model.predict(features)\n",
    "# prediction=model.predict_proba(features)\n",
    "# print(prediction)\n",
    "print(predictionvalue)\n",
    "if predictionvalue==1:\n",
    "    print ('You have higher chances of diabetes')\n",
    "else:\n",
    "    print ('Minimal chances of diabetes')"
   ]
  },
  {
   "cell_type": "code",
   "execution_count": null,
   "metadata": {},
   "outputs": [],
   "source": []
  },
  {
   "cell_type": "code",
   "execution_count": null,
   "metadata": {},
   "outputs": [],
   "source": []
  }
 ],
 "metadata": {
  "colab": {
   "collapsed_sections": [],
   "provenance": []
  },
  "kernelspec": {
   "display_name": "ML_DS_AI",
   "language": "python",
   "name": "ml_ds_ai"
  },
  "language_info": {
   "codemirror_mode": {
    "name": "ipython",
    "version": 3
   },
   "file_extension": ".py",
   "mimetype": "text/x-python",
   "name": "python",
   "nbconvert_exporter": "python",
   "pygments_lexer": "ipython3",
   "version": "3.11.5"
  }
 },
 "nbformat": 4,
 "nbformat_minor": 4
}
