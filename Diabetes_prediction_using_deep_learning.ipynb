{
 "cells": [
  {
   "cell_type": "code",
   "execution_count": null,
   "metadata": {
    "id": "ho45FnLL_6TK"
   },
   "outputs": [],
   "source": [
    "import numpy as np\n",
    "import matplotlib.pyplot as plt\n",
    "import pandas as pd\n",
    "from tensorflow import keras\n",
    "from tensorflow.keras.models import Sequential\n",
    "from tensorflow.keras.layers import Dropout, Dense, Input, Flatten, Dropout\n",
    "from sklearn.model_selection import train_test_split\n",
    "from sklearn.preprocessing import StandardScaler\n",
    "from tensorflow.keras.models import load_model"
   ]
  },
  {
   "cell_type": "code",
   "execution_count": null,
   "metadata": {
    "colab": {
     "base_uri": "https://localhost:8080/",
     "height": 441
    },
    "id": "VKJ8tTSAAZNI",
    "outputId": "8520d54d-980c-45c8-cc1e-2f4cb86e588e",
    "scrolled": true
   },
   "outputs": [],
   "source": [
    "diabetesdataurl='app\\\\static\\\\Datasets\\\\diabetes.csv'\n",
    "diabetesdata_cp= pd.read_csv(diabetesdataurl)\n",
    "diabetesdata=diabetesdata_cp.copy(deep=True)\n",
    "diabetesdata"
   ]
  },
  {
   "cell_type": "code",
   "execution_count": null,
   "metadata": {
    "id": "8nBVpmuPENLw"
   },
   "outputs": [],
   "source": [
    "diabetesdata[['Glucose','BloodPressure','SkinThickness','Insulin','BMI']] = diabetesdata[['Glucose','BloodPressure','SkinThickness','Insulin','BMI']].replace(0,np.NaN)\n",
    "diabetesdata.dropna(inplace=True,axis=0)\n",
    "# diabetesdata['Glucose'].fillna(diabetesdata['Glucose'].mean(),inplace=True)\n",
    "# diabetesdata['BloodPressure'].fillna(diabetesdata['BloodPressure'].mean(),inplace=True)\n",
    "# diabetesdata['SkinThickness'].fillna(diabetesdata['SkinThickness'].median(),inplace=True)\n",
    "# diabetesdata['Insulin'].fillna(diabetesdata['Insulin'].median(),inplace=True)\n",
    "# diabetesdata['BMI'].fillna(diabetesdata['BMI'].median(),inplace=True)"
   ]
  },
  {
   "cell_type": "code",
   "execution_count": null,
   "metadata": {
    "colab": {
     "base_uri": "https://localhost:8080/"
    },
    "id": "2bQvJzKmEcKY",
    "outputId": "4c61dd99-e688-41c6-9603-565ad92cee62"
   },
   "outputs": [],
   "source": [
    "X=diabetesdata.drop(['Outcome','BloodPressure', 'SkinThickness'],axis=1)\n",
    "# X=diabetesdata.drop(['Outcome'],axis=1)\n",
    "\n",
    "Y=diabetesdata['Outcome']\n",
    "X.shape"
   ]
  },
  {
   "cell_type": "code",
   "execution_count": null,
   "metadata": {
    "id": "huOFvIZZH6SY"
   },
   "outputs": [],
   "source": [
    "X_train,X_test,Y_train,Y_test=train_test_split(X,Y,test_size=0.2,stratify=Y,random_state=42)\n",
    "scaler = StandardScaler()\n",
    "X_train = scaler.fit_transform(X_train)\n",
    "X_test = scaler.transform(X_test)"
   ]
  },
  {
   "cell_type": "code",
   "execution_count": null,
   "metadata": {
    "id": "qlk_z3iEH6ES"
   },
   "outputs": [],
   "source": [
    "model = Sequential()\n",
    "model.add(Input(6,))\n",
    "\n",
    "model.add(Dense(units=30, activation='relu'))\n",
    "model.add(Dropout(0.2))\n",
    "model.add(Dense(units=90, activation='relu'))\n",
    "model.add(Dropout(0.2))\n",
    "model.add(Dense(units=180, activation='relu'))\n",
    "model.add(Dropout(0.2))\n",
    "model.add(Dense(1,activation='sigmoid'))\n",
    "\n",
    "model.compile(loss='binary_crossentropy',optimizer='adam',metrics=['accuracy'])\n",
    "\n"
   ]
  },
  {
   "cell_type": "code",
   "execution_count": null,
   "metadata": {},
   "outputs": [],
   "source": [
    "from tensorflow.keras.callbacks import ModelCheckpoint, EarlyStopping\n",
    "path_to_save_model='./models'\n",
    "early_stop=EarlyStopping(monitor=\"val_loss\",patience=100)#this means if after 10 epochs the model is not improving(ie:validation loss is not reducing) then the training stops \n",
    "checkpointsaver=ModelCheckpoint(path_to_save_model,monitor=\"val_accuracy\",mode='max',save_best_only=True,save_freq='epoch',verbose=1)#reason for these parameters is to enable saving the model on highest validation accuracy on an epoch\n"
   ]
  },
  {
   "cell_type": "code",
   "execution_count": null,
   "metadata": {
    "colab": {
     "base_uri": "https://localhost:8080/"
    },
    "id": "Tjp18sZ8qIEw",
    "outputId": "bdc273ff-b835-42aa-c541-28cede23be97",
    "scrolled": true
   },
   "outputs": [],
   "source": [
    "model.fit(X_train, Y_train, epochs=200, validation_split=0.2, callbacks=[checkpointsaver,early_stop])"
   ]
  },
  {
   "cell_type": "code",
   "execution_count": null,
   "metadata": {
    "colab": {
     "base_uri": "https://localhost:8080/"
    },
    "id": "nERzu8KqUKQO",
    "outputId": "e10a917f-82cb-4a62-a4c3-77007cd796c3"
   },
   "outputs": [],
   "source": [
    "model.evaluate(X_test,Y_test,batch_size=100)"
   ]
  },
  {
   "cell_type": "code",
   "execution_count": null,
   "metadata": {},
   "outputs": [],
   "source": [
    "model=load_model('./models')"
   ]
  },
  {
   "cell_type": "code",
   "execution_count": null,
   "metadata": {
    "scrolled": true
   },
   "outputs": [],
   "source": [
    "model.predict(X_test)"
   ]
  },
  {
   "cell_type": "code",
   "execution_count": null,
   "metadata": {},
   "outputs": [],
   "source": [
    "np.shape(model.predict(X_test))"
   ]
  },
  {
   "cell_type": "code",
   "execution_count": null,
   "metadata": {},
   "outputs": [],
   "source": [
    "Y_test"
   ]
  },
  {
   "cell_type": "code",
   "execution_count": null,
   "metadata": {},
   "outputs": [],
   "source": [
    "pregnanciesno=1\n",
    "glucose=137\n",
    "bmi=45\n",
    "insulin=200\n",
    "Age=33\n",
    "bloodpressure=300\n",
    "# SkinThickness=40\n",
    "pedigree=2.288\n",
    "features=[pregnanciesno,glucose,bloodpressure,insulin,bmi,pedigree,Age]\n",
    "features=np.array(features)\n",
    "features=features.reshape(1,-1)\n",
    "# features=scaler.transform(features)\n",
    "predictionvalue=model.predict(features)\n",
    "prediction=model.predict_proba(features)\n",
    "print(predictionvalue, prediction)\n",
    "if predictionvalue==1:\n",
    "    print ('You have higher chances of diabetes')\n",
    "else:\n",
    "    print ('Minimal chances of diabetes')"
   ]
  },
  {
   "cell_type": "code",
   "execution_count": null,
   "metadata": {},
   "outputs": [],
   "source": []
  }
 ],
 "metadata": {
  "colab": {
   "collapsed_sections": [],
   "provenance": []
  },
  "kernelspec": {
   "display_name": "Python 3 (ipykernel)",
   "language": "python",
   "name": "python3"
  },
  "language_info": {
   "codemirror_mode": {
    "name": "ipython",
    "version": 3
   },
   "file_extension": ".py",
   "mimetype": "text/x-python",
   "name": "python",
   "nbconvert_exporter": "python",
   "pygments_lexer": "ipython3",
   "version": "3.9.12"
  }
 },
 "nbformat": 4,
 "nbformat_minor": 1
}
