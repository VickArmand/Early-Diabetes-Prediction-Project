{
 "cells": [
  {
   "cell_type": "code",
   "execution_count": 15,
   "id": "ed99f2ed",
   "metadata": {},
   "outputs": [],
   "source": [
    "import pandas as pd\n",
    "import seaborn as sns\n",
    "import numpy as np\n",
    "import matplotlib.pyplot as plt\n",
    "from sklearn.pipeline import Pipeline\n",
    "from sklearn.metrics import roc_auc_score, accuracy_score,f1_score,mean_absolute_error\n",
    "from sklearn.impute import SimpleImputer\n",
    "import xgboost \n",
    "from sklearn.linear_model import LogisticRegression\n",
    "import pickle as pk"
   ]
  },
  {
   "cell_type": "code",
   "execution_count": 16,
   "id": "720d352d",
   "metadata": {},
   "outputs": [],
   "source": [
    "diabetesdataurl='diabetes.csv'\n",
    "\n",
    "diabetesdata= pd.read_csv(diabetesdataurl)"
   ]
  },
  {
   "cell_type": "code",
   "execution_count": 17,
   "id": "10e8e286",
   "metadata": {},
   "outputs": [],
   "source": [
    "diabetesdata[['Glucose','BloodPressure','SkinThickness','Insulin','BMI']] = diabetesdata[['Glucose','BloodPressure','SkinThickness','Insulin','BMI']].replace(0,np.NaN)"
   ]
  },
  {
   "cell_type": "code",
   "execution_count": 18,
   "id": "f2c66dd7",
   "metadata": {},
   "outputs": [],
   "source": [
    "diabetesdata.dropna(inplace=True)"
   ]
  },
  {
   "cell_type": "code",
   "execution_count": 19,
   "id": "ec3d9048",
   "metadata": {},
   "outputs": [],
   "source": [
    "X=diabetesdata.drop(['Outcome'],axis=1)"
   ]
  },
  {
   "cell_type": "code",
   "execution_count": 20,
   "id": "72ba7d0a",
   "metadata": {},
   "outputs": [],
   "source": [
    "Y=diabetesdata['Outcome']"
   ]
  },
  {
   "cell_type": "code",
   "execution_count": 21,
   "id": "cb6c7676",
   "metadata": {},
   "outputs": [],
   "source": [
    "from sklearn.model_selection import train_test_split\n",
    "X_train,X_test,Y_train,Y_test=train_test_split(X,Y,test_size=0.2,stratify=Y,random_state=42)\n"
   ]
  },
  {
   "cell_type": "code",
   "execution_count": 22,
   "id": "aa2521b0",
   "metadata": {
    "scrolled": true
   },
   "outputs": [
    {
     "name": "stderr",
     "output_type": "stream",
     "text": [
      "C:\\Users\\VICKFURY\\anaconda3\\lib\\site-packages\\xgboost\\sklearn.py:1224: UserWarning: The use of label encoder in XGBClassifier is deprecated and will be removed in a future release. To remove this warning, do the following: 1) Pass option use_label_encoder=False when constructing XGBClassifier object; and 2) Encode your labels (y) as integers starting with 0, i.e. 0, 1, 2, ..., [num_class - 1].\n",
      "  warnings.warn(label_encoder_deprecation_msg, UserWarning)\n",
      "C:\\Users\\VICKFURY\\anaconda3\\lib\\site-packages\\xgboost\\data.py:250: FutureWarning: pandas.Int64Index is deprecated and will be removed from pandas in a future version. Use pandas.Index with the appropriate dtype instead.\n",
      "  elif isinstance(data.columns, (pd.Int64Index, pd.RangeIndex)):\n"
     ]
    },
    {
     "name": "stdout",
     "output_type": "stream",
     "text": [
      "[06:52:23] WARNING: C:\\Windows\\Temp\\abs_557yfx631l\\croots\\recipe\\xgboost-split_1659548953302\\work\\src\\learner.cc:1115: Starting in XGBoost 1.3.0, the default evaluation metric used with the objective 'binary:logistic' was changed from 'error' to 'logloss'. Explicitly set eval_metric if you'd like to restore the old behavior.\n"
     ]
    }
   ],
   "source": [
    "classifier=xgboost.XGBClassifier(learning_rate =0.0001,\n",
    " n_estimators=1000,\n",
    " max_depth=5,\n",
    " min_child_weight=1,\n",
    " gamma=0,\n",
    " subsample=0.8,\n",
    " colsample_bytree=0.8,\n",
    " objective= 'binary:logistic',\n",
    " nthread=4,\n",
    " scale_pos_weight=1,\n",
    " seed=27)\n",
    "# classifier=LogisticRegression()\n",
    "# from sklearn import svm\n",
    "# classifier=svm.SVC(kernel='linear')\n",
    "classifier.fit(X_train,Y_train)\n",
    "pred=classifier.predict(X_train)"
   ]
  },
  {
   "cell_type": "code",
   "execution_count": 23,
   "id": "8898051a",
   "metadata": {},
   "outputs": [
    {
     "data": {
      "text/plain": [
       "(0.9137380191693291, array([0.93556086, 0.86956522]))"
      ]
     },
     "execution_count": 23,
     "metadata": {},
     "output_type": "execute_result"
    }
   ],
   "source": [
    "trainaccuracy=accuracy_score(Y_train,pred)\n",
    "f1score= f1_score(Y_train,pred, average=None)\n",
    "trainaccuracy, f1score"
   ]
  },
  {
   "cell_type": "code",
   "execution_count": 24,
   "id": "623e7da0",
   "metadata": {},
   "outputs": [
    {
     "data": {
      "text/plain": [
       "array([1, 0, 0, 0, 0, 1, 0, 0, 1, 0, 0, 1, 1, 1, 0, 0, 0, 0, 0, 0, 1, 0,\n",
       "       0, 0, 1, 0, 1, 1, 0, 0, 0, 0, 0, 1, 0, 0, 0, 0, 0, 0, 1, 0, 0, 0,\n",
       "       1, 1, 0, 0, 0, 1, 1, 1, 0, 0, 1, 0, 1, 1, 0, 1, 0, 0, 0, 1, 0, 0,\n",
       "       0, 1, 0, 0, 0, 0, 1, 0, 0, 0, 0, 0, 0], dtype=int64)"
      ]
     },
     "execution_count": 24,
     "metadata": {},
     "output_type": "execute_result"
    }
   ],
   "source": [
    "preds=classifier.predict(X_test)\n",
    "preds"
   ]
  },
  {
   "cell_type": "code",
   "execution_count": 25,
   "id": "19b4b965",
   "metadata": {},
   "outputs": [
    {
     "data": {
      "text/plain": [
       "0.8227848101265823"
      ]
     },
     "execution_count": 25,
     "metadata": {},
     "output_type": "execute_result"
    }
   ],
   "source": [
    "testaccuracy=accuracy_score(Y_test,preds)\n",
    "testaccuracy"
   ]
  },
  {
   "cell_type": "code",
   "execution_count": 26,
   "id": "3dcb636d",
   "metadata": {},
   "outputs": [
    {
     "name": "stdout",
     "output_type": "stream",
     "text": [
      "No diabetes\n"
     ]
    }
   ],
   "source": [
    "# sample1=[6,148,72,35,0,33.6,0.627,50]\n",
    "sample1=[5,116,74,0,0,25.6,0.201,30]\n",
    "sample1=np.array(sample1)\n",
    "sample1=sample1.reshape(1,-1)\n",
    "# sample2=scaler.transform(sample1)\n",
    "\n",
    "finalpred=classifier.predict(sample1)\n",
    "if finalpred==1:\n",
    "    print ('You have diabetes')\n",
    "else:\n",
    "    print ('No diabetes')"
   ]
  },
  {
   "cell_type": "code",
   "execution_count": 27,
   "id": "00ee6acc",
   "metadata": {},
   "outputs": [],
   "source": [
    "ml= \"diabetespredmodelusingxgboost.pkl\"\n",
    "md=pk.dump(classifier,open(ml,'wb'))"
   ]
  },
  {
   "cell_type": "code",
   "execution_count": 28,
   "id": "485dee1f",
   "metadata": {
    "scrolled": true
   },
   "outputs": [
    {
     "data": {
      "text/plain": [
       "XGBClassifier(base_score=0.5, booster='gbtree', colsample_bylevel=1,\n",
       "              colsample_bynode=1, colsample_bytree=0.8,\n",
       "              enable_categorical=False, gamma=0, gpu_id=-1,\n",
       "              importance_type=None, interaction_constraints='',\n",
       "              learning_rate=0.0001, max_delta_step=0, max_depth=5,\n",
       "              min_child_weight=1, missing=nan, monotone_constraints='()',\n",
       "              n_estimators=1000, n_jobs=4, nthread=4, num_parallel_tree=1,\n",
       "              predictor='auto', random_state=27, reg_alpha=0, reg_lambda=1,\n",
       "              scale_pos_weight=1, seed=27, subsample=0.8, tree_method='exact',\n",
       "              validate_parameters=1, verbosity=None)"
      ]
     },
     "execution_count": 28,
     "metadata": {},
     "output_type": "execute_result"
    }
   ],
   "source": [
    "model =pk.load(open(ml,'rb'))\n",
    "model"
   ]
  }
 ],
 "metadata": {
  "kernelspec": {
   "display_name": "Python 3 (ipykernel)",
   "language": "python",
   "name": "python3"
  },
  "language_info": {
   "codemirror_mode": {
    "name": "ipython",
    "version": 3
   },
   "file_extension": ".py",
   "mimetype": "text/x-python",
   "name": "python",
   "nbconvert_exporter": "python",
   "pygments_lexer": "ipython3",
   "version": "3.9.12"
  }
 },
 "nbformat": 4,
 "nbformat_minor": 5
}
