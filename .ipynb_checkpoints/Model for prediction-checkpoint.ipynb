{
 "cells": [
  {
   "cell_type": "code",
   "execution_count": null,
   "id": "ed99f2ed",
   "metadata": {},
   "outputs": [],
   "source": [
    "import pandas as pd\n",
    "import seaborn as sns\n",
    "import numpy as np\n",
    "import matplotlib.pyplot as plt\n",
    "from sklearn.pipeline import Pipeline\n",
    "from sklearn.metrics import roc_auc_score, accuracy_score,f1_score,mean_absolute_error\n",
    "from sklearn.impute import SimpleImputer\n",
    "import xgboost\n",
    "from xgboost import XGBClassifier, plot_importance\n",
    "import pickle as pk\n",
    "from sklearn.preprocessing import StandardScaler,MinMaxScaler\n"
   ]
  },
  {
   "cell_type": "code",
   "execution_count": null,
   "id": "720d352d",
   "metadata": {},
   "outputs": [],
   "source": [
    "diabetesdataurl='diabetes.csv'\n",
    "\n",
    "diabetesdata= pd.read_csv(diabetesdataurl)"
   ]
  },
  {
   "cell_type": "code",
   "execution_count": null,
   "id": "10e8e286",
   "metadata": {},
   "outputs": [],
   "source": [
    "diabetesdata[['Glucose','BloodPressure','SkinThickness','Insulin','BMI']] = diabetesdata[['Glucose','BloodPressure','SkinThickness','Insulin','BMI']].replace(0,np.NaN)\n",
    "# plt.figure(figsize=(10,10))\n",
    "# sns.heatmap(diabetesdata.corr(), annot=True)\n",
    "# plt.show()"
   ]
  },
  {
   "cell_type": "code",
   "execution_count": null,
   "id": "f2c66dd7",
   "metadata": {},
   "outputs": [],
   "source": [
    "# diabetesdata['Glucose'].fillna(diabetesdata['Glucose'].mean(), inplace = True)\n",
    "# diabetesdata['BloodPressure'].fillna(diabetesdata['BloodPressure'].mean(), inplace = True)\n",
    "# diabetesdata['SkinThickness'].fillna(diabetesdata['SkinThickness'].median(), inplace = True)\n",
    "# diabetesdata['Insulin'].fillna(diabetesdata['Insulin'].median(), inplace = True)\n",
    "# diabetesdata['BMI'].fillna(diabetesdata['BMI'].median(), inplace = True)\n",
    "diabetesdata.dropna(inplace=True)"
   ]
  },
  {
   "cell_type": "code",
   "execution_count": null,
   "id": "ec3d9048",
   "metadata": {},
   "outputs": [],
   "source": [
    "X=diabetesdata.drop(['Outcome'],axis=1)"
   ]
  },
  {
   "cell_type": "code",
   "execution_count": null,
   "id": "72ba7d0a",
   "metadata": {},
   "outputs": [],
   "source": [
    "Y=diabetesdata['Outcome']"
   ]
  },
  {
   "cell_type": "code",
   "execution_count": null,
   "id": "cb6c7676",
   "metadata": {},
   "outputs": [],
   "source": [
    "from sklearn.model_selection import train_test_split\n",
    "X_train,X_test,Y_train,Y_test=train_test_split(X,Y,test_size=0.2,stratify=Y,random_state=42)\n"
   ]
  },
  {
   "cell_type": "code",
   "execution_count": null,
   "id": "aa2521b0",
   "metadata": {
    "scrolled": true
   },
   "outputs": [],
   "source": [
    "xgb_cls=xgboost.XGBClassifier(learning_rate =0.0001,\n",
    " n_estimators=1000,\n",
    " \n",
    " max_depth=5,\n",
    " min_child_weight=1,\n",
    " gamma=0,\n",
    " subsample=0.8,\n",
    " colsample_bytree=0.8,\n",
    " objective= 'binary:logistic',\n",
    " nthread=4,\n",
    " scale_pos_weight=1,\n",
    " seed=27)\n",
    "# classifier=LogisticRegression()\n",
    "# from sklearn import svm\n",
    "# classifier=svm.SVC(kernel='linear')\n",
    "scaler = MinMaxScaler()\n",
    "X_train = scaler.fit_transform(X_train)\n",
    "X_test= scaler.transform(X_test)\n",
    "classifier=xgb_cls.fit(X_train,Y_train)\n",
    "pred=classifier.predict(X_train)"
   ]
  },
  {
   "cell_type": "code",
   "execution_count": null,
   "id": "8898051a",
   "metadata": {},
   "outputs": [],
   "source": [
    "trainaccuracy=accuracy_score(Y_train,pred)\n",
    "f1score= f1_score(Y_train,pred, average=None)\n",
    "trainaccuracy, f1score"
   ]
  },
  {
   "cell_type": "code",
   "execution_count": null,
   "id": "623e7da0",
   "metadata": {},
   "outputs": [],
   "source": [
    "preds=classifier.predict(X_test)\n",
    "preds"
   ]
  },
  {
   "cell_type": "code",
   "execution_count": null,
   "id": "19b4b965",
   "metadata": {},
   "outputs": [],
   "source": [
    "testaccuracy=accuracy_score(Y_test,preds)\n",
    "testaccuracy"
   ]
  },
  {
   "cell_type": "code",
   "execution_count": null,
   "id": "3dcb636d",
   "metadata": {},
   "outputs": [],
   "source": [
    "# sample1=[6,148,72,35,0,33.6,0.627,50]\n",
    "sample1=[5,116,74,0,0,25.6,0.201,30]\n",
    "sample1=np.array(sample1)\n",
    "sample1=sample1.reshape(1,-1)\n",
    "# sample2=scaler.transform(sample1)\n",
    "\n",
    "finalpred=classifier.predict(sample1)\n",
    "if finalpred==1:\n",
    "    print ('You have diabetes')\n",
    "else:\n",
    "    print ('No diabetes')"
   ]
  },
  {
   "cell_type": "code",
   "execution_count": null,
   "id": "00ee6acc",
   "metadata": {},
   "outputs": [],
   "source": [
    "# ml= \"diabetespredmodelusingxgboost.pkl\"\n",
    "ml= \"/models/diabetespredmodelusingxgboost.json\"\n",
    "# md=pk.dump(classifier,open(ml,'wb'))\n",
    "import joblib as jb\n",
    "classifier.save_model(ml)\n",
    "# jb.dump(classifier,ml)\n"
   ]
  },
  {
   "cell_type": "code",
   "execution_count": null,
   "id": "485dee1f",
   "metadata": {
    "scrolled": false
   },
   "outputs": [],
   "source": [
    "# model =pk.load(open(ml,'rb'))\n",
    "xgb_cls.load_model(ml)\n",
    "# model=jb.load(ml)\n",
    "sample1=[5,116,74,0,0,25.6,0.201,30]\n",
    "sample1=np.array(sample1)\n",
    "sample1=sample1.reshape(1,-1)\n",
    "xgb_cls.predict(sample1)\n"
   ]
  },
  {
   "cell_type": "code",
   "execution_count": null,
   "id": "9e7cbaa3",
   "metadata": {},
   "outputs": [],
   "source": [
    "xgboost.__version__"
   ]
  },
  {
   "cell_type": "code",
   "execution_count": null,
   "id": "04616a61",
   "metadata": {},
   "outputs": [],
   "source": []
  }
 ],
 "metadata": {
  "kernelspec": {
   "display_name": "Python 3 (ipykernel)",
   "language": "python",
   "name": "python3"
  },
  "language_info": {
   "codemirror_mode": {
    "name": "ipython",
    "version": 3
   },
   "file_extension": ".py",
   "mimetype": "text/x-python",
   "name": "python",
   "nbconvert_exporter": "python",
   "pygments_lexer": "ipython3",
   "version": "3.9.12"
  }
 },
 "nbformat": 4,
 "nbformat_minor": 5
}
